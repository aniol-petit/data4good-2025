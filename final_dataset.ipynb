{
 "cells": [
  {
   "cell_type": "code",
   "execution_count": 2,
   "metadata": {},
   "outputs": [
    {
     "name": "stdout",
     "output_type": "stream",
     "text": [
      "Updated dataset saved to 'updated_transformed_dataset.csv'\n"
     ]
    }
   ],
   "source": [
    "import pandas as pd\n",
    "\n",
    "# Load the datasets\n",
    "transformed_df = pd.read_csv(\"transformed_dataset.csv\")\n",
    "predicted_df = pd.read_csv(\"predicted_camp_locations.csv\")\n",
    "\n",
    "# Prepare the new records based on predicted data\n",
    "new_records = []\n",
    "\n",
    "for _, row in predicted_df.iterrows():\n",
    "    # Extract ID and prediction data\n",
    "    id_ = row['ID']\n",
    "    origin = row['Dest']  # This becomes the origin of the new record\n",
    "    dest = row['Predicted_Camp']  # The predicted camp\n",
    "    camp_type = 'Camp Name'\n",
    "    \n",
    "    # Find the current max index for this ID in the transformed dataset\n",
    "    max_index = transformed_df[transformed_df['ID'] == id_]['Index'].max()\n",
    "    new_index = max_index + 1 if not pd.isnull(max_index) else 0\n",
    "    \n",
    "    # Create the new record\n",
    "    new_record = {\n",
    "        'ID': id_,\n",
    "        'Origin': origin,\n",
    "        'Dest': dest,\n",
    "        'Index': new_index,\n",
    "        'Type': camp_type\n",
    "    }\n",
    "    new_records.append(new_record)\n",
    "\n",
    "# Append the new records to the transformed dataset\n",
    "new_records_df = pd.DataFrame(new_records)\n",
    "updated_transformed_df = pd.concat([transformed_df, new_records_df], ignore_index=True)\n",
    "\n",
    "# Sort the data by ID and Index to maintain proper order\n",
    "updated_transformed_df = updated_transformed_df.sort_values(by=['ID', 'Index'])\n",
    "\n",
    "# Save the updated dataset\n",
    "updated_transformed_df.to_csv(\"updated_transformed_dataset.csv\", index=False)\n",
    "\n",
    "print(\"Updated dataset saved to 'updated_transformed_dataset.csv'\")\n"
   ]
  },
  {
   "cell_type": "code",
   "execution_count": 4,
   "metadata": {},
   "outputs": [
    {
     "data": {
      "text/html": [
       "<div>\n",
       "<style scoped>\n",
       "    .dataframe tbody tr th:only-of-type {\n",
       "        vertical-align: middle;\n",
       "    }\n",
       "\n",
       "    .dataframe tbody tr th {\n",
       "        vertical-align: top;\n",
       "    }\n",
       "\n",
       "    .dataframe thead th {\n",
       "        text-align: right;\n",
       "    }\n",
       "</style>\n",
       "<table border=\"1\" class=\"dataframe\">\n",
       "  <thead>\n",
       "    <tr style=\"text-align: right;\">\n",
       "      <th></th>\n",
       "      <th>ID</th>\n",
       "      <th>Origin</th>\n",
       "      <th>Dest</th>\n",
       "      <th>Index</th>\n",
       "      <th>Type</th>\n",
       "    </tr>\n",
       "  </thead>\n",
       "  <tbody>\n",
       "    <tr>\n",
       "      <th>0</th>\n",
       "      <td>1</td>\n",
       "      <td>Gniezno</td>\n",
       "      <td>Bergen-Belsen</td>\n",
       "      <td>4</td>\n",
       "      <td>Camp Name</td>\n",
       "    </tr>\n",
       "    <tr>\n",
       "      <th>1</th>\n",
       "      <td>2</td>\n",
       "      <td>Cypern</td>\n",
       "      <td>Bergen-Belsen</td>\n",
       "      <td>3</td>\n",
       "      <td>Camp Name</td>\n",
       "    </tr>\n",
       "    <tr>\n",
       "      <th>2</th>\n",
       "      <td>3</td>\n",
       "      <td>Monowitz / Auschwitz</td>\n",
       "      <td>Dachau</td>\n",
       "      <td>1</td>\n",
       "      <td>Camp Name</td>\n",
       "    </tr>\n",
       "    <tr>\n",
       "      <th>3</th>\n",
       "      <td>4</td>\n",
       "      <td>Blechhammer</td>\n",
       "      <td>Auschwitz</td>\n",
       "      <td>5</td>\n",
       "      <td>Camp Name</td>\n",
       "    </tr>\n",
       "    <tr>\n",
       "      <th>4</th>\n",
       "      <td>5</td>\n",
       "      <td>Warschau</td>\n",
       "      <td>Theresienstadt</td>\n",
       "      <td>3</td>\n",
       "      <td>Camp Name</td>\n",
       "    </tr>\n",
       "  </tbody>\n",
       "</table>\n",
       "</div>"
      ],
      "text/plain": [
       "   ID                Origin            Dest  Index       Type\n",
       "0   1               Gniezno   Bergen-Belsen      4  Camp Name\n",
       "1   2                Cypern   Bergen-Belsen      3  Camp Name\n",
       "2   3  Monowitz / Auschwitz          Dachau      1  Camp Name\n",
       "3   4           Blechhammer       Auschwitz      5  Camp Name\n",
       "4   5              Warschau  Theresienstadt      3  Camp Name"
      ]
     },
     "execution_count": 4,
     "metadata": {},
     "output_type": "execute_result"
    }
   ],
   "source": [
    "new_records_df.head()"
   ]
  },
  {
   "cell_type": "code",
   "execution_count": 9,
   "metadata": {},
   "outputs": [],
   "source": [
    "import pandas as pd\n",
    "\n",
    "\n",
    "# Load the Data4Good_Arolsen_Archives_50k dataset\n",
    "names_df = pd.read_csv(\"Data4Good_Arolsen_Archives_50k.csv\")\n",
    "\n",
    "# Rename columns in the names dataset for clarity\n",
    "names_df = names_df.rename(columns={\"Last_Name\": \"Surname\", \"First Name\": \"First_Name\"})\n",
    "\n",
    "# Ensure the index of names_df matches the IDs in the transformed dataset\n",
    "names_df['ID'] = names_df.index + 1  # IDs start from 1\n",
    "names_df = names_df[['ID', 'First_Name', 'Surname']]\n"
   ]
  },
  {
   "cell_type": "code",
   "execution_count": 10,
   "metadata": {},
   "outputs": [
    {
     "data": {
      "text/html": [
       "<div>\n",
       "<style scoped>\n",
       "    .dataframe tbody tr th:only-of-type {\n",
       "        vertical-align: middle;\n",
       "    }\n",
       "\n",
       "    .dataframe tbody tr th {\n",
       "        vertical-align: top;\n",
       "    }\n",
       "\n",
       "    .dataframe thead th {\n",
       "        text-align: right;\n",
       "    }\n",
       "</style>\n",
       "<table border=\"1\" class=\"dataframe\">\n",
       "  <thead>\n",
       "    <tr style=\"text-align: right;\">\n",
       "      <th></th>\n",
       "      <th>ID</th>\n",
       "      <th>First_Name</th>\n",
       "      <th>Surname</th>\n",
       "    </tr>\n",
       "  </thead>\n",
       "  <tbody>\n",
       "    <tr>\n",
       "      <th>0</th>\n",
       "      <td>1</td>\n",
       "      <td>Mieczyslawa Marianna</td>\n",
       "      <td>KIERZKOWSKA</td>\n",
       "    </tr>\n",
       "    <tr>\n",
       "      <th>1</th>\n",
       "      <td>2</td>\n",
       "      <td>Pesia Pese</td>\n",
       "      <td>GRUER</td>\n",
       "    </tr>\n",
       "    <tr>\n",
       "      <th>2</th>\n",
       "      <td>3</td>\n",
       "      <td>Oskar</td>\n",
       "      <td>Kurz</td>\n",
       "    </tr>\n",
       "    <tr>\n",
       "      <th>3</th>\n",
       "      <td>4</td>\n",
       "      <td>Moses</td>\n",
       "      <td>SPRITZR</td>\n",
       "    </tr>\n",
       "    <tr>\n",
       "      <th>4</th>\n",
       "      <td>5</td>\n",
       "      <td>Mosche</td>\n",
       "      <td>ROSENBERG</td>\n",
       "    </tr>\n",
       "  </tbody>\n",
       "</table>\n",
       "</div>"
      ],
      "text/plain": [
       "   ID            First_Name      Surname\n",
       "0   1  Mieczyslawa Marianna  KIERZKOWSKA\n",
       "1   2            Pesia Pese        GRUER\n",
       "2   3                 Oskar         Kurz\n",
       "3   4                 Moses      SPRITZR\n",
       "4   5                Mosche    ROSENBERG"
      ]
     },
     "execution_count": 10,
     "metadata": {},
     "output_type": "execute_result"
    }
   ],
   "source": [
    "names_df.head()"
   ]
  },
  {
   "cell_type": "code",
   "execution_count": 11,
   "metadata": {},
   "outputs": [],
   "source": [
    "\n",
    "# Merge the names with the updated transformed dataset\n",
    "final_df = pd.merge(updated_transformed_df, names_df, on='ID', how='left')\n"
   ]
  },
  {
   "cell_type": "code",
   "execution_count": 14,
   "metadata": {},
   "outputs": [],
   "source": [
    "final_df = final_df[['ID', 'First_Name', 'Surname', 'Origin', 'Dest', 'Index', 'Type']]"
   ]
  },
  {
   "cell_type": "code",
   "execution_count": 16,
   "metadata": {},
   "outputs": [
    {
     "name": "stdout",
     "output_type": "stream",
     "text": [
      "Final dataset with names saved to 'final_transformed_dataset_with_names.csv'\n"
     ]
    }
   ],
   "source": [
    "\n",
    "# Save the final dataset to a new CSV\n",
    "final_df.to_csv(\"final_transformed_dataset_with_names.csv\", index=False)\n",
    "\n",
    "print(\"Final dataset with names saved to 'final_transformed_dataset_with_names.csv'\")\n"
   ]
  }
 ],
 "metadata": {
  "kernelspec": {
   "display_name": "base",
   "language": "python",
   "name": "python3"
  },
  "language_info": {
   "codemirror_mode": {
    "name": "ipython",
    "version": 3
   },
   "file_extension": ".py",
   "mimetype": "text/x-python",
   "name": "python",
   "nbconvert_exporter": "python",
   "pygments_lexer": "ipython3",
   "version": "3.12.7"
  }
 },
 "nbformat": 4,
 "nbformat_minor": 2
}
