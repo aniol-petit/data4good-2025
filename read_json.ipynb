{
 "cells": [
  {
   "cell_type": "code",
   "execution_count": 4,
   "metadata": {},
   "outputs": [
    {
     "name": "stdout",
     "output_type": "stream",
     "text": [
      "52.4256018 17.8453561\n"
     ]
    }
   ],
   "source": [
    "import json\n",
    "\n",
    "# Load the input file\n",
    "input_file = \"geo_data.json\"\n",
    "with open(input_file, 'r', encoding='utf-8') as f:\n",
    "    raw_data = json.load(f)  # Load the data as a Python list\n",
    "\n",
    "# Function to clean and parse each JSON string\n",
    "def clean_and_parse(item):\n",
    "    if isinstance(item, str):  # Ensure the item is a string\n",
    "        cleaned_str = item.strip('\"').replace('\"\"', '\"')  # Fix escaping issues\n",
    "        return json.loads(cleaned_str)  # Convert to a dictionary\n",
    "    elif isinstance(item, dict):  # If already a dictionary, return it as is\n",
    "        return item\n",
    "    else:\n",
    "        return None  # Ignore items that are not strings or dictionaries\n",
    "\n",
    "# Clean and parse all items in the JSON data\n",
    "parsed_data = [clean_and_parse(item) for item in raw_data if clean_and_parse(item) is not None]\n",
    "\n",
    "# Function to find latitude and longitude for a specific location\n",
    "def find_coordinates(location, data):\n",
    "    for record in data:\n",
    "        markers = record.get(\"markers\", [])\n",
    "        for marker in markers:\n",
    "            if marker.get(\"label\") == location:\n",
    "                location_data = marker.get(\"location\", {})\n",
    "                lat = location_data.get(\"lat\", \"Unknown\")\n",
    "                lon = location_data.get(\"lon\", \"Unknown\")\n",
    "                return lat, lon\n",
    "    return None, None  # Return None if location is not found\n",
    "\n",
    "# Example usage: Find coordinates for \"Wiekowo\"\n",
    "location_to_search = \"Wiekowo\"\n",
    "latitude, longitude = find_coordinates(location_to_search, parsed_data)\n",
    "\n",
    "print(latitude, longitude)\n",
    "\n"
   ]
  }
 ],
 "metadata": {
  "kernelspec": {
   "display_name": "Python 3",
   "language": "python",
   "name": "python3"
  },
  "language_info": {
   "codemirror_mode": {
    "name": "ipython",
    "version": 3
   },
   "file_extension": ".py",
   "mimetype": "text/x-python",
   "name": "python",
   "nbconvert_exporter": "python",
   "pygments_lexer": "ipython3",
   "version": "3.12.3"
  }
 },
 "nbformat": 4,
 "nbformat_minor": 2
}
