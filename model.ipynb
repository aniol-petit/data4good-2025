{
 "cells": [
  {
   "cell_type": "code",
   "execution_count": 4,
   "metadata": {},
   "outputs": [
    {
     "name": "stdout",
     "output_type": "stream",
     "text": [
      "Predictions saved to predicted_camp_locations.csv\n"
     ]
    }
   ],
   "source": [
    "import pandas as pd\n",
    "import numpy as np\n",
    "from sklearn.preprocessing import LabelEncoder\n",
    "from sklearn.ensemble import RandomForestClassifier\n",
    "from sklearn.model_selection import train_test_split\n",
    "from sklearn.metrics import accuracy_score\n",
    "from tensorflow.keras.preprocessing.sequence import pad_sequences\n",
    "\n",
    "\n",
    "# Load the transformed dataset\n",
    "df = pd.read_csv(\"transformed_dataset_with_intervals.csv\")\n",
    "\n",
    "# Define the mapping of inconsistent names to standardized camp names\n",
    "camp_mapping = {\n",
    "    'Auschwitz': 'Auschwitz',\n",
    "    'Auschw': 'Auschwitz',\n",
    "    'Auschwits': 'Auschwitz',\n",
    "    'Auschwitz - Birkenau': 'Auschwitz',\n",
    "    'Birkenau': 'Auschwitz',\n",
    "\n",
    "    'Stutthof': 'Stutthof',\n",
    "\n",
    "    'Bergen Belsen': 'Bergen-Belsen',\n",
    "    '- Belsen': 'Bergen-Belsen',\n",
    "    'Belsen': 'Bergen-Belsen',\n",
    "    'Bergen - Belsen': 'Bergen-Belsen',\n",
    "    'Berg . - Bels': 'Bergen-Belsen',\n",
    "\n",
    "    'Gross - Rosen': 'Gross-Rosen',\n",
    "    'Rosen': 'Gross-Rosen',\n",
    "\n",
    "    'Buchenwald': 'Buchenwald',\n",
    "    'Dachau': 'Dachau',\n",
    "    'Theresienstadt': 'Theresienstadt',\n",
    "    'Mauthausen': 'Mauthausen',\n",
    "    'Sachsenhausen': 'Sachsenhausen',\n",
    "    'Ravensbrück': 'Ravensbrück',\n",
    "    'Westerbork': 'Westerbork',\n",
    "    'Feldafing': 'Feldafing',\n",
    "    'Zeilsheim': 'Zeilsheim',\n",
    "    'Föhrenwalds': 'Föhrenwald',\n",
    "    'Plaszow': 'Plaszow',\n",
    "    'Landsberg': 'Landsberg',\n",
    "    'Eschwege': 'Eschwege',\n",
    "    'Majdanek': 'Majdanek',\n",
    "}\n",
    "\n",
    "# Standardize the camp names in the 'Origin' and 'Dest' columns\n",
    "df['Origin'] = df['Origin'].replace(camp_mapping)\n",
    "df['Dest'] = df['Dest'].replace(camp_mapping)\n",
    "\n",
    "# List of distinct camps for prediction\n",
    "distinct_camps = [\n",
    "    'Auschwitz', 'Stutthof', 'Bergen-Belsen', 'Gross-Rosen', 'Buchenwald', 'Dachau',\n",
    "    'Theresienstadt', 'Mauthausen', 'Sachsenhausen', 'Ravensbrück', 'Westerbork',\n",
    "    'Feldafing', 'Zeilsheim', 'Föhrenwald', 'Plaszow', 'Landsberg', 'Eschwege', 'Majdanek'\n",
    "]\n",
    "\n",
    "# Encode locations to numerical values\n",
    "all_locations = pd.concat([df['Origin'], df['Dest']]).unique()\n",
    "location_encoder = LabelEncoder()\n",
    "location_encoder.fit(all_locations)\n",
    "\n",
    "df['Origin_Encoded'] = location_encoder.transform(df['Origin'])\n",
    "df['Dest_Encoded'] = location_encoder.transform(df['Dest'])\n",
    "\n",
    "# Filter known and unknown camp samples\n",
    "known_camps = df[df['Dest'].isin(distinct_camps)]\n",
    "unknown_camps = df[~df['Dest'].isin(distinct_camps)]  # Entries without known camps\n",
    "\n",
    "# Grouping sequences by ID (combine all movements per person)\n",
    "def get_grouped_sequences(data):\n",
    "    grouped = data.groupby(\"ID\").agg({\n",
    "        \"Origin_Encoded\": lambda x: list(x),\n",
    "        \"Dest_Encoded\": lambda x: list(x),\n",
    "        \"Dest\": lambda x: list(x)[-1]  # Get final destination\n",
    "    }).reset_index()\n",
    "    return grouped\n",
    "\n",
    "# Prepare the grouped data\n",
    "train_data = get_grouped_sequences(known_camps)\n",
    "test_data = get_grouped_sequences(unknown_camps)\n",
    "\n",
    "# Prepare feature matrix (sequence of movements) and labels (final camp destination)\n",
    "X_train = pad_sequences(train_data['Origin_Encoded'], padding='post')\n",
    "y_train = train_data['Dest'].apply(lambda x: x if x in distinct_camps else None).dropna()\n",
    "y_train = location_encoder.transform(y_train)\n",
    "\n",
    "X_test = pad_sequences(test_data['Origin_Encoded'], maxlen=X_train.shape[1], padding='post')\n",
    "\n",
    "# Train Random Forest model\n",
    "rf_model = RandomForestClassifier(n_estimators=200, random_state=42)\n",
    "rf_model.fit(X_train, y_train)\n",
    "\n",
    "# Predict the camp names for unknown records\n",
    "predicted_camps_encoded = rf_model.predict(X_test)\n",
    "\n",
    "# Decode predictions back to camp names\n",
    "predicted_camps = location_encoder.inverse_transform(predicted_camps_encoded)\n",
    "\n",
    "# Assign predictions to the unknown samples\n",
    "test_data['Predicted_Camp'] = predicted_camps\n",
    "\n",
    "# Save results to a CSV file\n",
    "test_data.to_csv(\"predicted_camp_locations.csv\", index=False)\n",
    "\n",
    "print(\"Predictions saved to predicted_camp_locations.csv\")\n"
   ]
  },
  {
   "cell_type": "code",
   "execution_count": 8,
   "metadata": {},
   "outputs": [
    {
     "data": {
      "text/plain": [
       "47736"
      ]
     },
     "execution_count": 8,
     "metadata": {},
     "output_type": "execute_result"
    }
   ],
   "source": [
    "len(test_data)"
   ]
  }
 ],
 "metadata": {
  "kernelspec": {
   "display_name": "base",
   "language": "python",
   "name": "python3"
  },
  "language_info": {
   "codemirror_mode": {
    "name": "ipython",
    "version": 3
   },
   "file_extension": ".py",
   "mimetype": "text/x-python",
   "name": "python",
   "nbconvert_exporter": "python",
   "pygments_lexer": "ipython3",
   "version": "3.12.3"
  }
 },
 "nbformat": 4,
 "nbformat_minor": 2
}
