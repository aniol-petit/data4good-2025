{
 "cells": [
  {
   "cell_type": "code",
   "execution_count": 45,
   "metadata": {},
   "outputs": [
    {
     "name": "stdout",
     "output_type": "stream",
     "text": [
      "JSON data saved to geo_data.json\n"
     ]
    }
   ],
   "source": [
    "import pandas as pd\n",
    "import json\n",
    "\n",
    "# Load your dataset (modify the filename accordingly)\n",
    "file_path = \"Data4Good_Arolsen_Archives_50k.csv\"  # Change to your actual file path\n",
    "column_name = \"Geo Location\"    # Change to your actual column name\n",
    "\n",
    "# Read the dataset\n",
    "df = pd.read_csv(file_path)\n",
    "\n",
    "\n",
    "# Extract the JSON column\n",
    "geo_data = df[column_name].tolist()\n",
    "\n",
    "# Save to a JSON file\n",
    "output_file = \"geo_data.json\"\n",
    "with open(output_file, 'w', encoding='utf-8') as f:\n",
    "    json.dump(geo_data, f, ensure_ascii=False, indent=4)\n",
    "\n",
    "print(f\"JSON data saved to {output_file}\")\n"
   ]
  },
  {
   "cell_type": "code",
   "execution_count": 51,
   "metadata": {},
   "outputs": [
    {
     "name": "stdout",
     "output_type": "stream",
     "text": [
      "Structured data saved to transformed_dataset.csv\n"
     ]
    }
   ],
   "source": [
    "import json\n",
    "import pandas as pd\n",
    "\n",
    "# Load JSON data from the file\n",
    "input_file = \"geo_data.json\"  # Adjust to your actual file\n",
    "with open(input_file, 'r', encoding='utf-8') as f:\n",
    "    geo_data = json.load(f)\n",
    "\n",
    "# Prepare a list to store the transformed rows\n",
    "rows = []\n",
    "\n",
    "# Iterate through each JSON object in the dataset\n",
    "for record_id, record_str in enumerate(geo_data, start=1):\n",
    "    try:\n",
    "        # Ensure record_str is treated as a string\n",
    "        if not isinstance(record_str, str):\n",
    "            record_str = \"{}\"  # Replace non-string values with an empty JSON object\n",
    "        \n",
    "        # Clean up the JSON string by removing outer quotes and fixing escape sequences\n",
    "        cleaned_str = record_str.strip('\"').replace('\"\"', '\"')\n",
    "        \n",
    "        # Convert cleaned string into a valid JSON object, or empty if parsing fails\n",
    "        try:\n",
    "            record = json.loads(cleaned_str)\n",
    "        except json.JSONDecodeError:\n",
    "            record = {}  # Assign an empty dictionary in case of decoding error\n",
    "\n",
    "        paths = record.get(\"paths\", [])\n",
    "        markers = {marker.get(\"label\", \"Unknown\"): marker.get(\"type\", \"Unknown\") for marker in record.get(\"markers\", [])}\n",
    "        \n",
    "        for path in paths:\n",
    "            origin = path.get(\"fromLabel\", \"Unknown\")\n",
    "            dest = path.get(\"toLabel\", \"Unknown\")\n",
    "            index = path.get(\"index\", -1)  # Default to -1 if index is missing\n",
    "            \n",
    "            # Get the type by matching origin with marker labels\n",
    "            type_value = markers.get(origin, \"Unknown\")\n",
    "\n",
    "            # Append the row to the list\n",
    "            rows.append({\n",
    "                \"ID\": record_id,\n",
    "                \"Origin\": origin,\n",
    "                \"Dest\": dest,\n",
    "                \"Index\": index,\n",
    "                \"Type\": type_value\n",
    "            })\n",
    "        \n",
    "        # Handle cases where no valid paths exist (e.g., empty JSONs)\n",
    "        if not paths:\n",
    "            rows.append({\n",
    "                \"ID\": record_id,\n",
    "                \"Origin\": \"Unknown\",\n",
    "                \"Dest\": \"Unknown\",\n",
    "                \"Index\": -1,\n",
    "                \"Type\": \"Unknown\"\n",
    "            })\n",
    "\n",
    "    except Exception as e:\n",
    "        print(f\"Unexpected error in record {record_id}: {e}\")\n",
    "        continue\n",
    "\n",
    "# Convert list to DataFrame\n",
    "df = pd.DataFrame(rows)\n",
    "\n",
    "# Save to CSV file\n",
    "output_file = \"transformed_dataset.csv\"\n",
    "df.to_csv(output_file, index=False, encoding='utf-8')\n",
    "\n",
    "print(f\"Structured data saved to {output_file}\")\n"
   ]
  }
 ],
 "metadata": {
  "kernelspec": {
   "display_name": "base",
   "language": "python",
   "name": "python3"
  },
  "language_info": {
   "codemirror_mode": {
    "name": "ipython",
    "version": 3
   },
   "file_extension": ".py",
   "mimetype": "text/x-python",
   "name": "python",
   "nbconvert_exporter": "python",
   "pygments_lexer": "ipython3",
   "version": "3.12.3"
  }
 },
 "nbformat": 4,
 "nbformat_minor": 2
}
