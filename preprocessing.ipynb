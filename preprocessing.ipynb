{
 "cells": [
  {
   "cell_type": "code",
   "execution_count": 34,
   "metadata": {},
   "outputs": [
    {
     "name": "stdout",
     "output_type": "stream",
     "text": [
      "JSON data saved to geo_data.json\n"
     ]
    }
   ],
   "source": [
    "import pandas as pd\n",
    "import json\n",
    "\n",
    "# Load your dataset (modify the filename accordingly)\n",
    "file_path = \"Data4Good_Arolsen_Archives_50k.csv\"  # Change to your actual file path\n",
    "column_name = \"Geo Location\"    # Change to your actual column name\n",
    "\n",
    "# Read the dataset\n",
    "df = pd.read_csv(file_path)\n",
    "\n",
    "# Pick only the first 50 rows of the dataframe\n",
    "df = df.head(50)\n",
    "# Extract the JSON column\n",
    "geo_data = df[column_name].tolist()\n",
    "\n",
    "# Save to a JSON file\n",
    "output_file = \"geo_data.json\"\n",
    "with open(output_file, 'w', encoding='utf-8') as f:\n",
    "    json.dump(geo_data, f, ensure_ascii=False, indent=4)\n",
    "\n",
    "print(f\"JSON data saved to {output_file}\")\n"
   ]
  }
 ],
 "metadata": {
  "kernelspec": {
   "display_name": "base",
   "language": "python",
   "name": "python3"
  },
  "language_info": {
   "codemirror_mode": {
    "name": "ipython",
    "version": 3
   },
   "file_extension": ".py",
   "mimetype": "text/x-python",
   "name": "python",
   "nbconvert_exporter": "python",
   "pygments_lexer": "ipython3",
   "version": "3.12.3"
  }
 },
 "nbformat": 4,
 "nbformat_minor": 2
}
